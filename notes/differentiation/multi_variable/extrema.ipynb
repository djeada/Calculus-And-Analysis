{
  "metadata": {
    "language_info": {
      "codemirror_mode": {
        "name": "python",
        "version": 3
      },
      "file_extension": ".py",
      "mimetype": "text/x-python",
      "name": "python",
      "nbconvert_exporter": "python",
      "pygments_lexer": "ipython3",
      "version": "3.8"
    },
    "kernelspec": {
      "name": "python",
      "display_name": "Python (Pyodide)",
      "language": "python"
    }
  },
  "nbformat_minor": 4,
  "nbformat": 4,
  "cells": [
    {
      "cell_type": "code",
      "source": "import sympy as smp\nfrom sympy import *",
      "metadata": {
        "trusted": true
      },
      "execution_count": 1,
      "outputs": []
    },
    {
      "cell_type": "code",
      "source": "t = smp.symbols('t')\nx, y =smp.symbols('x, y', real=True)",
      "metadata": {
        "trusted": true
      },
      "execution_count": 2,
      "outputs": []
    },
    {
      "cell_type": "markdown",
      "source": "## Extrema\nExtreme values of $f(x,y)$ can occur at\n\n* 1. Boundary points of the domain of $f$\n* 2. Critical Points ($f_x=f_y=0$)\n\nIf\n\n* (i) $f_{xx}<0$ and $f_{xx}f_{yy} - f_{xy}^2>0$ at (a,b) then **local maximum**\n* (ii) $f_{xx}>0$ and $f_{xx}f_{yy} - f_{xy}^2>0$ at (a,b) then **local minimum**\n* (iii) $f_{xx}f_{yy} - f_{xy}^2 < 0$ at (a,b) then **saddle point**\n* (iv) $f_{xx}f_{yy} - f_{xy}^2 = 0$ at (a,b) then **inconclusive**",
      "metadata": {}
    },
    {
      "cell_type": "code",
      "source": "f = x**3 + 3*x*y + y**3\nf",
      "metadata": {
        "trusted": true
      },
      "execution_count": 3,
      "outputs": [
        {
          "execution_count": 3,
          "output_type": "execute_result",
          "data": {
            "text/plain": "x**3 + 3*x*y + y**3",
            "text/latex": "$\\displaystyle x^{3} + 3 x y + y^{3}$"
          },
          "metadata": {}
        }
      ]
    },
    {
      "cell_type": "code",
      "source": "smp.solve([smp.diff(f,x), smp.diff(f, y)])",
      "metadata": {
        "trusted": true
      },
      "execution_count": 4,
      "outputs": [
        {
          "execution_count": 4,
          "output_type": "execute_result",
          "data": {
            "text/plain": "[{x: -1, y: -1}, {x: 0, y: 0}]"
          },
          "metadata": {}
        }
      ]
    },
    {
      "cell_type": "code",
      "source": "fxx = smp.diff(f,x,x)\nfyy = smp.diff(f,y,y)\nfxy = smp.diff(f,x,y)",
      "metadata": {
        "trusted": true
      },
      "execution_count": 5,
      "outputs": []
    },
    {
      "cell_type": "code",
      "source": "fxx.subs([(x,-1),(y,-1)])",
      "metadata": {
        "trusted": true
      },
      "execution_count": 6,
      "outputs": [
        {
          "execution_count": 6,
          "output_type": "execute_result",
          "data": {
            "text/plain": "-6",
            "text/latex": "$\\displaystyle -6$"
          },
          "metadata": {}
        }
      ]
    },
    {
      "cell_type": "code",
      "source": "test = fxx*fyy-fxy**2\ntest.subs([(x,-1),(y,-1)])",
      "metadata": {
        "trusted": true
      },
      "execution_count": 7,
      "outputs": [
        {
          "execution_count": 7,
          "output_type": "execute_result",
          "data": {
            "text/plain": "27",
            "text/latex": "$\\displaystyle 27$"
          },
          "metadata": {}
        }
      ]
    },
    {
      "cell_type": "markdown",
      "source": "Thus the first point is a local maximum!",
      "metadata": {}
    }
  ]
}