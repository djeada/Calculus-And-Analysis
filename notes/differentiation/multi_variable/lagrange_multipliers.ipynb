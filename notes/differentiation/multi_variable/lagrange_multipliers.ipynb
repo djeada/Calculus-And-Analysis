{
  "metadata": {
    "language_info": {
      "codemirror_mode": {
        "name": "python",
        "version": 3
      },
      "file_extension": ".py",
      "mimetype": "text/x-python",
      "name": "python",
      "nbconvert_exporter": "python",
      "pygments_lexer": "ipython3",
      "version": "3.8"
    },
    "kernelspec": {
      "name": "python",
      "display_name": "Python (Pyodide)",
      "language": "python"
    }
  },
  "nbformat_minor": 4,
  "nbformat": 4,
  "cells": [
    {
      "cell_type": "code",
      "source": "import sympy as smp\nfrom sympy import *",
      "metadata": {
        "trusted": true
      },
      "execution_count": 1,
      "outputs": []
    },
    {
      "cell_type": "code",
      "source": "t = smp.symbols('t')\nx, y =smp.symbols('x, y', real=True)",
      "metadata": {
        "trusted": true
      },
      "execution_count": 2,
      "outputs": []
    },
    {
      "cell_type": "markdown",
      "source": "## Lagrange Multipliers\nMinimize $f(x,y,z)$ subject to the constraint $g(x,y,z)=0$\n\n* Requires solving the two equations $\\nabla f = \\lambda \\nabla g$ and $g(x,y,z)=0$\n\n**Example**: A space probe has the shape of an ellipsoid $4x^2 + y^2 + 4z^2 = 16$ and after sitting in the sun for an hour. the temperature on its surface is given by $T(x,y,z)=8x^2+4yz-16z+600$. Find the hottest point on the surface\n\nNote that $g=4x^2 + y^2 + 4z^2 - 16 = 0$ and $f=T = 8x^2+4yz-16z+600$ here",
      "metadata": {}
    },
    {
      "cell_type": "code",
      "source": "from sympy.vector import CoordSys3D, gradient\nC = CoordSys3D('')\nf = x**3 + 3*x*y + y**3",
      "metadata": {
        "trusted": true
      },
      "execution_count": 3,
      "outputs": []
    },
    {
      "cell_type": "code",
      "source": "lam = smp.symbols('\\lambda')\ng = 4*C.x**2 + C.y**2 + 4*C.z**2 - 16\nf = 8*C.x**2 + 4*C.y*C.z-16*C.z+600\neq1 = gradient(f)-lam*gradient(g)\neq1 = eq1.to_matrix(C)\neq2 = g\nsols = smp.solve([eq1, eq2])\nsols",
      "metadata": {
        "trusted": true
      },
      "execution_count": 4,
      "outputs": [
        {
          "execution_count": 4,
          "output_type": "execute_result",
          "data": {
            "text/plain": "[{.x: -4/3, .y: -4/3, .z: -4/3, \\lambda: 2},\n {.x: 0, .y: -2, .z: -sqrt(3), \\lambda: sqrt(3)},\n {.x: 0, .y: -2, .z: sqrt(3), \\lambda: -sqrt(3)},\n {.x: 0, .y: 4, .z: 0, \\lambda: 0},\n {.x: 4/3, .y: -4/3, .z: -4/3, \\lambda: 2}]"
          },
          "metadata": {}
        }
      ]
    },
    {
      "cell_type": "code",
      "source": "for sol in sols:\n    print(f.subs(sol).evalf())",
      "metadata": {
        "trusted": true
      },
      "execution_count": 5,
      "outputs": [
        {
          "name": "stdout",
          "text": "642.666666666667\n641.569219381653\n558.430780618347\n600.000000000000\n642.666666666667\n",
          "output_type": "stream"
        }
      ]
    },
    {
      "cell_type": "markdown",
      "source": "First and last solutions are the points where the probe is the hottest.",
      "metadata": {}
    }
  ]
}