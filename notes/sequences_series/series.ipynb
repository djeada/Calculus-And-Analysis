{
  "metadata": {
    "language_info": {
      "codemirror_mode": {
        "name": "python",
        "version": 3
      },
      "file_extension": ".py",
      "mimetype": "text/x-python",
      "name": "python",
      "nbconvert_exporter": "python",
      "pygments_lexer": "ipython3",
      "version": "3.8"
    },
    "kernelspec": {
      "name": "python",
      "display_name": "Python (Pyodide)",
      "language": "python"
    }
  },
  "nbformat_minor": 4,
  "nbformat": 4,
  "cells": [
    {
      "cell_type": "code",
      "source": "import sympy as smp\nfrom sympy import *",
      "metadata": {
        "trusted": true
      },
      "execution_count": 1,
      "outputs": []
    },
    {
      "cell_type": "code",
      "source": "n = smp.symbols('n')",
      "metadata": {
        "trusted": true
      },
      "execution_count": 2,
      "outputs": []
    },
    {
      "cell_type": "markdown",
      "source": "## Series\n$$ \\sum_{n=0}^\\infty \\frac{2^{n+1}}{5^n} $$",
      "metadata": {}
    },
    {
      "cell_type": "code",
      "source": "smp.Sum(2**(n+1) / 5**n, (n,0,smp.oo)).doit()",
      "metadata": {
        "trusted": true
      },
      "execution_count": 3,
      "outputs": [
        {
          "execution_count": 3,
          "output_type": "execute_result",
          "data": {
            "text/plain": "10/3",
            "text/latex": "$\\displaystyle \\frac{10}{3}$"
          },
          "metadata": {}
        }
      ]
    }
  ]
}