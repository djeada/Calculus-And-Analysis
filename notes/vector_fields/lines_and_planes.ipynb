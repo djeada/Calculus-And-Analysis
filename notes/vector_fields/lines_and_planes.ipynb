{
  "metadata": {
    "language_info": {
      "codemirror_mode": {
        "name": "python",
        "version": 3
      },
      "file_extension": ".py",
      "mimetype": "text/x-python",
      "name": "python",
      "nbconvert_exporter": "python",
      "pygments_lexer": "ipython3",
      "version": "3.8"
    },
    "kernelspec": {
      "name": "python",
      "display_name": "Python (Pyodide)",
      "language": "python"
    }
  },
  "nbformat_minor": 4,
  "nbformat": 4,
  "cells": [
    {
      "cell_type": "code",
      "source": "import sympy as smp\nfrom sympy import *",
      "metadata": {
        "trusted": true
      },
      "execution_count": 1,
      "outputs": []
    },
    {
      "cell_type": "code",
      "source": "x, y, z, t = smp.symbols('x y z t')",
      "metadata": {
        "trusted": true
      },
      "execution_count": 2,
      "outputs": []
    },
    {
      "cell_type": "markdown",
      "source": "## Lines/Planes in Space\n\nLines: $\\vec{r}(t) = \\vec{r}_0 + t\\vec{v}$",
      "metadata": {}
    },
    {
      "cell_type": "code",
      "source": "r0 = smp.Matrix([1,1,1])\nv = smp.Matrix([1,3,-1])\nr = r0 + t*v\nr",
      "metadata": {
        "trusted": true
      },
      "execution_count": 3,
      "outputs": [
        {
          "execution_count": 3,
          "output_type": "execute_result",
          "data": {
            "text/plain": "Matrix([\n[  t + 1],\n[3*t + 1],\n[  1 - t]])",
            "text/latex": "$\\displaystyle \\left[\\begin{matrix}t + 1\\\\3 t + 1\\\\1 - t\\end{matrix}\\right]$"
          },
          "metadata": {}
        }
      ]
    },
    {
      "cell_type": "markdown",
      "source": "Planes: $\\vec{n} \\cdot (P_0-\\left<x,y,z\\right>) = 0$",
      "metadata": {}
    },
    {
      "cell_type": "code",
      "source": "P0 = smp.Matrix([4,4,8])\nr = smp.Matrix([x,y,z])\nn = smp.Matrix([1,1,1])\nn.dot(P0-r)",
      "metadata": {
        "trusted": true
      },
      "execution_count": 4,
      "outputs": [
        {
          "execution_count": 4,
          "output_type": "execute_result",
          "data": {
            "text/plain": "-x - y - z + 16",
            "text/latex": "$\\displaystyle - x - y - z + 16$"
          },
          "metadata": {}
        }
      ]
    }
  ]
}