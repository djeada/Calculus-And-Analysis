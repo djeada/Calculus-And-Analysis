{
  "metadata": {
    "language_info": {
      "codemirror_mode": {
        "name": "python",
        "version": 3
      },
      "file_extension": ".py",
      "mimetype": "text/x-python",
      "name": "python",
      "nbconvert_exporter": "python",
      "pygments_lexer": "ipython3",
      "version": "3.8"
    },
    "kernelspec": {
      "name": "python",
      "display_name": "Python (Pyodide)",
      "language": "python"
    }
  },
  "nbformat_minor": 4,
  "nbformat": 4,
  "cells": [
    {
      "cell_type": "code",
      "source": "import sympy as smp\nfrom sympy import *",
      "metadata": {
        "trusted": true
      },
      "execution_count": 1,
      "outputs": []
    },
    {
      "cell_type": "code",
      "source": "x, y, z, t = smp.symbols('x y z t')",
      "metadata": {
        "trusted": true
      },
      "execution_count": 2,
      "outputs": []
    },
    {
      "cell_type": "markdown",
      "source": "## Arclength\n\n$$L = \\int_a^b \\sqrt{dx^2 + dy^2 + dz^2} = \\int_a^b \\sqrt{(dx/dt)^2 + (dy/dt)^2 + (dz/dt)^2 } dt $$",
      "metadata": {}
    },
    {
      "cell_type": "code",
      "source": "r = smp.Matrix([0, t, t**2])\nsmp.integrate(smp.diff(r,t).norm(), (t,0,1))",
      "metadata": {
        "trusted": true
      },
      "execution_count": 3,
      "outputs": [
        {
          "execution_count": 3,
          "output_type": "execute_result",
          "data": {
            "text/plain": "asinh(2)/4 + sqrt(5)/2",
            "text/latex": "$\\displaystyle \\frac{\\operatorname{asinh}{\\left(2 \\right)}}{4} + \\frac{\\sqrt{5}}{2}$"
          },
          "metadata": {}
        }
      ]
    },
    {
      "cell_type": "markdown",
      "source": "Planes: $\\vec{n} \\cdot (P_0-\\left<x,y,z\\right>) = 0$",
      "metadata": {}
    },
    {
      "cell_type": "markdown",
      "source": "In most cases needs to be done numerically. Find arclength of $\\left< e^t, \\sin(t), t^4 \\right>$ from $t=0$ to $t=1$",
      "metadata": {}
    },
    {
      "cell_type": "code",
      "source": "r = smp.Matrix([smp.exp(t), smp.sin(t), t**4])\nr_num = smp.lambdify([t], smp.diff(r,t).norm())\nfrom scipy.integrate import quad\nquad(r_num, 0, 1)[0]",
      "metadata": {
        "trusted": true
      },
      "execution_count": 5,
      "outputs": [
        {
          "execution_count": 5,
          "output_type": "execute_result",
          "data": {
            "text/plain": "2.316977146444862"
          },
          "metadata": {}
        }
      ]
    }
  ]
}