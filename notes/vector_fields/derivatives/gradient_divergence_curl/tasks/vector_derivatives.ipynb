{
 "cells": [
  {
   "cell_type": "code",
   "execution_count": null,
   "id": "13599d9f",
   "metadata": {},
   "outputs": [],
   "source": [
    "# placeholder for vector derivatives notebook"
   ]
  }
 ],
 "metadata": {
  "language_info": {
   "name": "python"
  }
 },
 "nbformat": 4,
 "nbformat_minor": 5
}
