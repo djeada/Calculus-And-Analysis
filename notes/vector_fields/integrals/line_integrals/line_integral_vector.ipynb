{
  "metadata": {
    "language_info": {
      "codemirror_mode": {
        "name": "python",
        "version": 3
      },
      "file_extension": ".py",
      "mimetype": "text/x-python",
      "name": "python",
      "nbconvert_exporter": "python",
      "pygments_lexer": "ipython3",
      "version": "3.8"
    },
    "kernelspec": {
      "name": "python",
      "display_name": "Python (Pyodide)",
      "language": "python"
    }
  },
  "nbformat_minor": 4,
  "nbformat": 4,
  "cells": [
    {
      "cell_type": "code",
      "source": "import sympy as smp\nfrom sympy import *",
      "metadata": {
        "trusted": true
      },
      "execution_count": 1,
      "outputs": []
    },
    {
      "cell_type": "code",
      "source": "x, y, z = smp.symbols('x, y, z')",
      "metadata": {
        "trusted": true
      },
      "execution_count": 2,
      "outputs": []
    },
    {
      "cell_type": "markdown",
      "source": "## Line Integrals (Vector)\nGiven $\\vec{r}(t) = \\left< g(t), h(t), k(t) \\right>$ the line integral of $\\vec{F}(x,y,z)$ along the curve is\n\n$$\\int_C \\vec{F}(x,y,z) \\cdot d\\vec{r} = \\int_a^b\\vec{F}(g(t), h(t), k(t)) \\cdot \\frac{d\\vec{r}}{dt} dt$$",
      "metadata": {}
    },
    {
      "cell_type": "code",
      "source": "t = smp.symbols('t', real=True)\nx, y, z, F1, F2, F3 = smp.symbols('x y z F_1, F_2, F_3', cls=smp.Function, real=True)\nx = x(t)\ny = y(t)\nz = z(t)\nF1 = F1(x,y,z)\nF2 = F2(x,y,z)\nF3 = F3(x,y,z)\nr = smp.Matrix([x, y, z])\nF = smp.Matrix([F1, F2, F3])",
      "metadata": {
        "trusted": true
      },
      "execution_count": 3,
      "outputs": []
    },
    {
      "cell_type": "code",
      "source": "integrand = F.dot(smp.diff(r,t))\nintegrand",
      "metadata": {
        "trusted": true
      },
      "execution_count": 4,
      "outputs": [
        {
          "execution_count": 4,
          "output_type": "execute_result",
          "data": {
            "text/plain": "F_1(x(t), y(t), z(t))*Derivative(x(t), t) + F_2(x(t), y(t), z(t))*Derivative(y(t), t) + F_3(x(t), y(t), z(t))*Derivative(z(t), t)",
            "text/latex": "$\\displaystyle \\operatorname{F_{1}}{\\left(x{\\left(t \\right)},y{\\left(t \\right)},z{\\left(t \\right)} \\right)} \\frac{d}{d t} x{\\left(t \\right)} + \\operatorname{F_{2}}{\\left(x{\\left(t \\right)},y{\\left(t \\right)},z{\\left(t \\right)} \\right)} \\frac{d}{d t} y{\\left(t \\right)} + \\operatorname{F_{3}}{\\left(x{\\left(t \\right)},y{\\left(t \\right)},z{\\left(t \\right)} \\right)} \\frac{d}{d t} z{\\left(t \\right)}$"
          },
          "metadata": {}
        }
      ]
    },
    {
      "cell_type": "markdown",
      "source": "Suppose $\\vec{F} = \\left< \\sqrt{z}, -2x, \\sqrt{y}\\right>$ and $\\vec{r}(t) = \\left<t, t^2, t^4 \\right>$ from $t=0$ to $t=1$",
      "metadata": {}
    },
    {
      "cell_type": "code",
      "source": "integrand1 = integrand.subs([(F1, smp.sqrt(z)),\n                             (F2, -2*x),\n                             (F3, smp.sqrt(y)),\n                             (x, t),\n                             (y, t**2),\n                             (z, t**4)]).doit().simplify()\nsmp.integrate(integrand1, (t, 0, 1))",
      "metadata": {
        "trusted": true
      },
      "execution_count": 5,
      "outputs": [
        {
          "execution_count": 5,
          "output_type": "execute_result",
          "data": {
            "text/plain": "-1/5",
            "text/latex": "$\\displaystyle - \\frac{1}{5}$"
          },
          "metadata": {}
        }
      ]
    },
    {
      "cell_type": "markdown",
      "source": "Often times this can't be done by hand, and one needs to evaluate numerically using scipy:\n\nSuppose $\\vec{F} = \\left< \\sqrt{|z|}, -2x, \\sqrt{|y|}\\right>$ and $\\vec{r}(t) = \\left<3\\cos^2(t), t^2, 2\\sin(t) \\right>$ from $t=0$ to $t=2\\pi$",
      "metadata": {}
    },
    {
      "cell_type": "code",
      "source": "integrand2 = integrand.subs([(F1, smp.sqrt(smp.Abs(z))),\n                             (F2, -2*x),\n                             (F3, smp.sqrt(smp.Abs(y))),\n                             (x, 3*smp.cos(t)**2),\n                             (y, t**2),\n                             (z, 2*smp.sin(t))]).doit().simplify()\nintegrand2",
      "metadata": {
        "trusted": true
      },
      "execution_count": 6,
      "outputs": [
        {
          "execution_count": 6,
          "output_type": "execute_result",
          "data": {
            "text/plain": "2*(-6*t*cos(t) - 3*sqrt(2)*sin(t)*sqrt(Abs(sin(t))) + Abs(t))*cos(t)",
            "text/latex": "$\\displaystyle 2 \\left(- 6 t \\cos{\\left(t \\right)} - 3 \\sqrt{2} \\sin{\\left(t \\right)} \\sqrt{\\left|{\\sin{\\left(t \\right)}}\\right|} + \\left|{t}\\right|\\right) \\cos{\\left(t \\right)}$"
          },
          "metadata": {}
        }
      ]
    },
    {
      "cell_type": "markdown",
      "source": "Do it numerically using scipy's `quad` function",
      "metadata": {}
    },
    {
      "cell_type": "code",
      "source": "from scipy.integrate import quad\nfrom numpy import pi\nintegrand2_num = smp.lambdify([t], integrand2)\nquad(integrand2_num, 0, 2*pi)[0]",
      "metadata": {
        "trusted": true
      },
      "execution_count": 7,
      "outputs": [
        {
          "execution_count": 7,
          "output_type": "execute_result",
          "data": {
            "text/plain": "-118.4352528130723"
          },
          "metadata": {}
        }
      ]
    }
  ]
}