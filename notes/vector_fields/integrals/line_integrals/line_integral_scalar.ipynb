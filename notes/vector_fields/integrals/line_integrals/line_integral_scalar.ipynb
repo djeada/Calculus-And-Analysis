{
  "metadata": {
    "language_info": {
      "codemirror_mode": {
        "name": "python",
        "version": 3
      },
      "file_extension": ".py",
      "mimetype": "text/x-python",
      "name": "python",
      "nbconvert_exporter": "python",
      "pygments_lexer": "ipython3",
      "version": "3.8"
    },
    "kernelspec": {
      "name": "python",
      "display_name": "Python (Pyodide)",
      "language": "python"
    }
  },
  "nbformat_minor": 4,
  "nbformat": 4,
  "cells": [
    {
      "cell_type": "code",
      "source": "import sympy as smp\nfrom sympy import *",
      "metadata": {
        "trusted": true
      },
      "execution_count": 1,
      "outputs": []
    },
    {
      "cell_type": "code",
      "source": "x, y, z = smp.symbols('x, y, z')",
      "metadata": {
        "trusted": true
      },
      "execution_count": 2,
      "outputs": []
    },
    {
      "cell_type": "markdown",
      "source": "## Line Integrals (Scalar)\nGiven $\\vec{r}(t) = \\left< g(t), h(t), k(t) \\right>$ the line integral of $f(x,y,z)$ along the curve is\n\n$$\\int_C f(x,y,z) ds = \\int_a^b f(g(t), h(t), k(t))|d\\vec{r}/dt|dt$$",
      "metadata": {}
    },
    {
      "cell_type": "code",
      "source": "t = smp.symbols('t', real=True)\nx, y, z, f = smp.symbols('x y z f', cls=smp.Function, real=True)\nx = x(t)\ny = y(t)\nz = z(t)\nr = smp.Matrix([x, y, z])\nf = f(x,y,z)",
      "metadata": {
        "trusted": true
      },
      "execution_count": 3,
      "outputs": []
    },
    {
      "cell_type": "code",
      "source": "integrand = f*smp.diff(r,t).norm()\nintegrand",
      "metadata": {
        "trusted": true
      },
      "execution_count": 4,
      "outputs": [
        {
          "execution_count": 4,
          "output_type": "execute_result",
          "data": {
            "text/plain": "sqrt(Abs(Derivative(x(t), t))**2 + Abs(Derivative(y(t), t))**2 + Abs(Derivative(z(t), t))**2)*f(x(t), y(t), z(t))",
            "text/latex": "$\\displaystyle \\sqrt{\\left|{\\frac{d}{d t} x{\\left(t \\right)}}\\right|^{2} + \\left|{\\frac{d}{d t} y{\\left(t \\right)}}\\right|^{2} + \\left|{\\frac{d}{d t} z{\\left(t \\right)}}\\right|^{2}} f{\\left(x{\\left(t \\right)},y{\\left(t \\right)},z{\\left(t \\right)} \\right)}$"
          },
          "metadata": {}
        }
      ]
    },
    {
      "cell_type": "markdown",
      "source": "Suppose \n* $\\vec{r}(t) = \\left<\\cos(t), \\sin(t), t \\right>$ \n* $f(x,y,z)=2xy+\\sqrt{z}$ \n\nand we are going from $t=0$ to $t=2\\pi$. In this case it can be solved symbolically:",
      "metadata": {}
    },
    {
      "cell_type": "code",
      "source": "integrand1 = integrand.subs([(f, 2*x*y+smp.sqrt(z)),\n                            (x, smp.cos(t)),\n                            (y, smp.sin(t)),\n                            (z, t)]).doit().simplify()\nsmp.integrate(integrand1, (t, 0, 2*smp.pi))",
      "metadata": {
        "trusted": true
      },
      "execution_count": 5,
      "outputs": [
        {
          "execution_count": 5,
          "output_type": "execute_result",
          "data": {
            "text/plain": "sqrt(2)/2 + sqrt(2)*(-1/2 + 4*sqrt(2)*pi**(3/2)/3)",
            "text/latex": "$\\displaystyle \\frac{\\sqrt{2}}{2} + \\sqrt{2} \\left(- \\frac{1}{2} + \\frac{4 \\sqrt{2} \\pi^{\\frac{3}{2}}}{3}\\right)$"
          },
          "metadata": {}
        }
      ]
    },
    {
      "cell_type": "markdown",
      "source": "In general, can't be done symbolically. Consider now\n\n* $\\vec{r}(t) = \\left<3\\cos(t), 2\\sin(t), e^{t/4} \\right>$ \n* $f(x,y,z)=2xy+\\sqrt{z}$ \n\nand we are going from $t=0$ to $t=2\\pi$.",
      "metadata": {}
    },
    {
      "cell_type": "code",
      "source": "integrand2 = integrand.subs([(f, 2*x*y+smp.sqrt(z)),\n                            (x, 3*smp.cos(t)),\n                            (y, smp.sin(t)),\n                            (z, smp.exp(t/4))]).doit().simplify()\nintegrand2",
      "metadata": {
        "trusted": true
      },
      "execution_count": 6,
      "outputs": [
        {
          "execution_count": 6,
          "output_type": "execute_result",
          "data": {
            "text/plain": "(exp(t/8) + 3*sin(2*t))*sqrt(exp(t/2) + 128*sin(t)**2 + 16)/4",
            "text/latex": "$\\displaystyle \\frac{\\left(e^{\\frac{t}{8}} + 3 \\sin{\\left(2 t \\right)}\\right) \\sqrt{e^{\\frac{t}{2}} + 128 \\sin^{2}{\\left(t \\right)} + 16}}{4}$"
          },
          "metadata": {}
        }
      ]
    },
    {
      "cell_type": "markdown",
      "source": "Do it numerically using scipy's `quad` function",
      "metadata": {}
    },
    {
      "cell_type": "code",
      "source": "from scipy.integrate import quad\nfrom numpy import pi\nintegrand2_num = smp.lambdify([t], integrand2)\nquad(integrand2_num, 0, 2*pi)[0]",
      "metadata": {
        "trusted": true
      },
      "execution_count": 8,
      "outputs": [
        {
          "execution_count": 8,
          "output_type": "execute_result",
          "data": {
            "text/plain": "21.055300456759795"
          },
          "metadata": {}
        }
      ]
    }
  ]
}