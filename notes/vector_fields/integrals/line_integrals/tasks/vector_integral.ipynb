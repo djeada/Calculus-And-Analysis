{
 "cells": [
  {
   "cell_type": "code",
   "execution_count": null,
   "id": "30fe3fc3",
   "metadata": {},
   "outputs": [],
   "source": [
    "# placeholder for vector integral notebook"
   ]
  }
 ],
 "metadata": {
  "language_info": {
   "name": "python"
  }
 },
 "nbformat": 4,
 "nbformat_minor": 5
}
