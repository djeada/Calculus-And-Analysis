{
  "metadata": {
    "language_info": {
      "codemirror_mode": {
        "name": "python",
        "version": 3
      },
      "file_extension": ".py",
      "mimetype": "text/x-python",
      "name": "python",
      "nbconvert_exporter": "python",
      "pygments_lexer": "ipython3",
      "version": "3.8"
    },
    "kernelspec": {
      "name": "python",
      "display_name": "Python (Pyodide)",
      "language": "python"
    }
  },
  "nbformat_minor": 4,
  "nbformat": 4,
  "cells": [
    {
      "cell_type": "code",
      "source": "import sympy as smp\nfrom sympy import *",
      "metadata": {
        "trusted": true
      },
      "execution_count": 1,
      "outputs": []
    },
    {
      "cell_type": "code",
      "source": "x, y, z, t = smp.symbols('x y z t')",
      "metadata": {
        "trusted": true
      },
      "execution_count": 2,
      "outputs": []
    },
    {
      "cell_type": "markdown",
      "source": "## Vector integral",
      "metadata": {}
    },
    {
      "cell_type": "code",
      "source": "r = smp.Matrix([smp.exp(t)*smp.cos(t), t**4, 1/(1+t**2)])\nr",
      "metadata": {
        "trusted": true
      },
      "execution_count": 3,
      "outputs": [
        {
          "execution_count": 3,
          "output_type": "execute_result",
          "data": {
            "text/plain": "Matrix([\n[exp(t)*cos(t)],\n[         t**4],\n[ 1/(t**2 + 1)]])",
            "text/latex": "$\\displaystyle \\left[\\begin{matrix}e^{t} \\cos{\\left(t \\right)}\\\\t^{4}\\\\\\frac{1}{t^{2} + 1}\\end{matrix}\\right]$"
          },
          "metadata": {}
        }
      ]
    },
    {
      "cell_type": "markdown",
      "source": "Planes: $\\vec{n} \\cdot (P_0-\\left<x,y,z\\right>) = 0$",
      "metadata": {}
    },
    {
      "cell_type": "code",
      "source": "smp.Integral(r).doit()",
      "metadata": {
        "trusted": true
      },
      "execution_count": 4,
      "outputs": [
        {
          "execution_count": 4,
          "output_type": "execute_result",
          "data": {
            "text/plain": "Matrix([\n[exp(t)*sin(t)/2 + exp(t)*cos(t)/2],\n[                           t**5/5],\n[                          atan(t)]])",
            "text/latex": "$\\displaystyle \\left[\\begin{matrix}\\frac{e^{t} \\sin{\\left(t \\right)}}{2} + \\frac{e^{t} \\cos{\\left(t \\right)}}{2}\\\\\\frac{t^{5}}{5}\\\\\\operatorname{atan}{\\left(t \\right)}\\end{matrix}\\right]$"
          },
          "metadata": {}
        }
      ]
    },
    {
      "cell_type": "markdown",
      "source": "In some cases integral cannot be evaluated symbolically: must solve definite integrals numerically:",
      "metadata": {}
    },
    {
      "cell_type": "code",
      "source": "r = smp.Matrix([smp.exp(t**2)*smp.cos(t)**3, smp.exp(-t**4), 1/(3+t**2)])\nr",
      "metadata": {
        "trusted": true
      },
      "execution_count": 5,
      "outputs": [
        {
          "execution_count": 5,
          "output_type": "execute_result",
          "data": {
            "text/plain": "Matrix([\n[exp(t**2)*cos(t)**3],\n[         exp(-t**4)],\n[       1/(t**2 + 3)]])",
            "text/latex": "$\\displaystyle \\left[\\begin{matrix}e^{t^{2}} \\cos^{3}{\\left(t \\right)}\\\\e^{- t^{4}}\\\\\\frac{1}{t^{2} + 3}\\end{matrix}\\right]$"
          },
          "metadata": {}
        }
      ]
    },
    {
      "cell_type": "code",
      "source": "r_num = smp.lambdify([t], r)",
      "metadata": {
        "trusted": true
      },
      "execution_count": 6,
      "outputs": []
    },
    {
      "cell_type": "code",
      "source": "r_num = smp.lambdify([t], r)\nfrom scipy.integrate import quad_vec\nquad_vec(r_num, 0, 4)[0]",
      "metadata": {
        "trusted": true
      },
      "execution_count": 8,
      "outputs": [
        {
          "execution_count": 8,
          "output_type": "execute_result",
          "data": {
            "text/plain": "array([[-4.83559254e+05],\n       [ 9.06402477e-01],\n       [ 6.70972506e-01]])"
          },
          "metadata": {}
        }
      ]
    }
  ]
}